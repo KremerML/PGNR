{
 "cells": [
  {
   "cell_type": "code",
   "execution_count": 2,
   "metadata": {},
   "outputs": [
    {
     "name": "stdout",
     "output_type": "stream",
     "text": [
      "news_information: [('N55528', 'lifestyleroyals The Brands Queen Elizabeth, Prince Charles, and Prince Philip Swear By'), ('N19639', 'weightloss 50 Worst Habits For Belly Fat'), ('N61837', \"newsworld The Cost of Trump's Aid Freeze in the Trenches of Ukraine's War\"), ('N53526', \"voices I Was An NBA Wife. Here's How It Affected My Mental Health.\"), ('N38324', 'medical How to Get Rid of Skin Tags, According to a Dermatologist'), ('N2073', 'football_nfl Should NFL be able to fine players for criticizing officiating?'), ('N49186', \"weathertopstories It's been Orlando's hottest October ever so far, but cooler temperatures on the way\"), ('N59295', 'newsworld Chile: Three die in supermarket fire amid protests'), ('N24510', 'gaming Best PS5 games: top PlayStation 5 titles to look forward to'), ('N39237', 'newsscienceandtechnology How to report weather-related closings, delays')]\n"
     ]
    }
   ],
   "source": [
    "import pickle\n",
    "\n",
    "# Function to load and inspect pickle files\n",
    "def load_and_inspect(file_path):\n",
    "    with open(file_path, 'rb') as f:\n",
    "        data = pickle.load(f)\n",
    "    return data\n",
    "\n",
    "# Load and inspect the data files\n",
    "# train_infor_his = load_and_inspect('./data/train/train_infor_his')\n",
    "train_interaction = load_and_inspect('./data/train/train_infor_his')\n",
    "news_information = load_and_inspect('./data/news_infor')\n",
    "# val_id_history = load_and_inspect('data\\\\val\\\\val_id_history')\n",
    "# val_interaction = load_and_inspect('data\\\\val\\\\val_interaction')\n",
    "\n",
    "\n",
    "# Print out the first few entries of each file to understand their structure\n",
    "# print(\"Train Infor His:\", list(train_infor_his.items())[:5])\n",
    "print(\"news_information:\", list(news_information.items())[:10])\n",
    "print(\"Train Interaction:\", list(train_interaction.items())[:10])\n",
    "# print(\"Val ID History:\", list(val_id_history.items()))\n",
    "# print(\"Val Interaction:\", val_interaction)"
   ]
  }
 ],
 "metadata": {
  "kernelspec": {
   "display_name": "pngr",
   "language": "python",
   "name": "python3"
  },
  "language_info": {
   "codemirror_mode": {
    "name": "ipython",
    "version": 3
   },
   "file_extension": ".py",
   "mimetype": "text/x-python",
   "name": "python",
   "nbconvert_exporter": "python",
   "pygments_lexer": "ipython3",
   "version": "3.9.19"
  }
 },
 "nbformat": 4,
 "nbformat_minor": 2
}
